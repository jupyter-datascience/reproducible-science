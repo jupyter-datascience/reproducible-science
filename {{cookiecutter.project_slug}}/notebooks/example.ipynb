{
 "cells": [
  {
   "cell_type": "code",
   "execution_count": 5,
   "metadata": {},
   "outputs": [
    {
     "name": "stdout",
     "output_type": "stream",
     "text": [
      "Test Choppy\n"
     ]
    }
   ],
   "source": [
    "print(\"Test Choppy\")"
   ]
  },
  {
   "cell_type": "code",
   "execution_count": 6,
   "metadata": {},
   "outputs": [
    {
     "data": {
      "text/plain": [
       "['yarn--1573361796312-0.9571834921198794',\n",
       " 'v8-compile-cache-1000',\n",
       " 'npm-3556-b9aba1e7',\n",
       " 'yarn--1573361806227-0.8177807460594622',\n",
       " 'yarn--1573361815843-0.8410182732779345',\n",
       " 'core-js-banners',\n",
       " 'npm-3513-d10c1bdf',\n",
       " '.empty']"
      ]
     },
     "execution_count": 6,
     "metadata": {},
     "output_type": "execute_result"
    }
   ],
   "source": [
    "import os\n",
    "\n",
    "os.listdir('/tmp')"
   ]
  },
  {
   "cell_type": "code",
   "execution_count": null,
   "metadata": {},
   "outputs": [],
   "source": []
  }
 ],
 "metadata": {
  "kernelspec": {
   "display_name": "Python 3",
   "language": "python",
   "name": "python3"
  },
  "language_info": {
   "codemirror_mode": {
    "name": "ipython",
    "version": 3
   },
   "file_extension": ".py",
   "mimetype": "text/x-python",
   "name": "python",
   "nbconvert_exporter": "python",
   "pygments_lexer": "ipython3",
   "version": "3.7.3"
  }
 },
 "nbformat": 4,
 "nbformat_minor": 4
}
